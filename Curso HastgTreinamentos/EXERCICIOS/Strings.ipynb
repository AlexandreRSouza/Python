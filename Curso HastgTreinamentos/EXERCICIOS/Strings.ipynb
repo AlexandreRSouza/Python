{
 "cells": [
  {
   "cell_type": "markdown",
   "id": "2b04bbea",
   "metadata": {},
   "source": [
    "# Strings\n",
    "\n",
    "<span style=\"color: red;\"><b>Todos os exercícios são feitos partindo-se do pressuposto de que todas as entradas são dadas de forma correta. Casos limite não mencionados no enunciado não são abordados porque não fazem parte do exercício.</b></span>"
   ]
  },
  {
   "cell_type": "markdown",
   "id": "5b1f33b9",
   "metadata": {},
   "source": [
    "#### 1. Tamanho de strings. Faça um programa que leia 2 strings e informe o conteúdo delas seguido do seu comprimento. Informe também se as duas strings possuem o mesmo comprimento e são iguais ou diferentes no conteúdo.\n",
    "<pre>\n",
    "Compara duas strings\n",
    "String 1: Brasil Hexa 2006\n",
    "String 2: Brasil! Hexa 2006!\n",
    "Tamanho de \"Brasil Hexa 2006\": 16 caracteres\n",
    "Tamanho de \"Brasil! Hexa 2006!\": 18 caracteres\n",
    "As duas strings são de tamanhos diferentes.\n",
    "As duas strings possuem conteúdo diferente.\n",
    "</pre>"
   ]
  },
  {
   "cell_type": "code",
   "execution_count": 5,
   "id": "c492b657",
   "metadata": {},
   "outputs": [
    {
     "name": "stdout",
     "output_type": "stream",
     "text": [
      "O tamanho da frase 01 é de 16 caracteres.\n",
      "O tamanho da frase 02 é de 18 caracteres.\n",
      "As duas strings são de tamanhos diferentes.\n",
      "As duas strings possuem conteúdo diferentes.\n"
     ]
    }
   ],
   "source": [
    "frase1 = \"Brasil Hexa 2006\"\n",
    "frase2 =\"Brasil! Hexa 2006!\"\n",
    "\n",
    "'''fra01 = len(frase1)'''\n",
    "\n",
    "print('O tamanho da frase 01 é de {} caracteres.' . format(len(frase1)))\n",
    "print('O tamanho da frase 02 é de {} caracteres.' . format(len(frase2)))\n",
    "\n",
    "if frase1 == frase2:\n",
    "    print('As duas strings são de tamanhos iguais.')\n",
    "else:\n",
    "   print('As duas strings são de tamanhos diferentes.')\n",
    "\n",
    "if frase1 in frase2:\n",
    "    print('As duas strings possuem conteúdo iguais.')\n",
    "else:\n",
    "     print('As duas strings possuem conteúdo diferentes.')\n",
    "\n",
    "\n"
   ]
  },
  {
   "cell_type": "markdown",
   "id": "c3068a53",
   "metadata": {},
   "source": [
    "#### 2. Valida e corrige número de telefone. Faça um programa que leia um número de telefone, e corrija o número no caso deste conter somente 7 dígitos, acrescentando o '3' na frente. O usuário pode informar o número com ou sem o traço separador.\n",
    "<pre>\n",
    "Valida e corrige número de telefone\n",
    "Telefone: 461-0133\n",
    "Telefone possui 7 dígitos. Vou acrescentar o digito três na frente.\n",
    "Telefone corrigido sem formatação: 34610133\n",
    "Telefone corrigido com formatação: 3461-0133\n",
    "</pre>"
   ]
  },
  {
   "cell_type": "code",
   "execution_count": 17,
   "id": "0308566d",
   "metadata": {},
   "outputs": [
    {
     "name": "stdout",
     "output_type": "stream",
     "text": [
      "Valida e corrige número de telefone\n",
      "Telefone: 31111111\n",
      "Telefone não tem 7 dígitos\n"
     ]
    }
   ],
   "source": [
    "print ('Valida e corrige número de telefone')\n",
    "\n",
    "telefone = input('Digite o número do telefone: ')\n",
    "\n",
    "telefone = telefone.replace('-' , '')\n",
    "\n",
    "print('Telefone: {}' .format(telefone))\n",
    "\n",
    "if len(telefone) == 7: \n",
    "    print('Telefone possui 7 dígitos. Vou acrescentar o digito três na frente.')\n",
    "    telefone = '3' + telefone\n",
    "    print (f'Telefone corrigido sem formatação: {telefone}')\n",
    "    print (f'Telefone corrigido com formatação: {telefone[:4]}-{telefone[4:]}')\n",
    "else:\n",
    "    print('Telefone não tem 7 dígitos')\n",
    "\n",
    "\n",
    "    \n",
    "\n",
    "\n"
   ]
  }
 ],
 "metadata": {
  "kernelspec": {
   "display_name": "Python 3 (ipykernel)",
   "language": "python",
   "name": "python3"
  },
  "language_info": {
   "codemirror_mode": {
    "name": "ipython",
    "version": 3
   },
   "file_extension": ".py",
   "mimetype": "text/x-python",
   "name": "python",
   "nbconvert_exporter": "python",
   "pygments_lexer": "ipython3",
   "version": "3.11.4"
  }
 },
 "nbformat": 4,
 "nbformat_minor": 5
}
